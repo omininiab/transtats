{
 "cells": [
  {
   "cell_type": "code",
   "execution_count": 35,
   "metadata": {
    "collapsed": true
   },
   "outputs": [],
   "source": [
    "#import relevant libraries\n",
    "from bs4 import BeautifulSoup #parsing html\n",
    "import requests #working with urls\n",
    "import json #working with json data"
   ]
  },
  {
   "cell_type": "code",
   "execution_count": 36,
   "metadata": {
    "collapsed": true
   },
   "outputs": [],
   "source": [
    "s = requests.Session()"
   ]
  },
  {
   "cell_type": "code",
   "execution_count": 37,
   "metadata": {
    "collapsed": true
   },
   "outputs": [],
   "source": [
    "#get transtats html from url\n",
    "r = s.get('https://www.transtats.bts.gov/Data_Elements.aspx?Data=2')\n",
    "#parse html text\n",
    "soup = BeautifulSoup(r.text, \"lxml\")"
   ]
  },
  {
   "cell_type": "code",
   "execution_count": 38,
   "metadata": {
    "collapsed": true
   },
   "outputs": [],
   "source": [
    "def get_options(soup, tag):\n",
    "    \"\"\"\n",
    "    this function goes through the parsed soup of transtats website\n",
    "    searches for the specified tag\n",
    "    returns a list of elements of the tag\n",
    "    used to obtain list of carriers and airports\n",
    "    \"\"\"\n",
    "    options = []\n",
    "    get_list = soup.find(id=tag)\n",
    "    for option in get_list.find_all('option'):\n",
    "        options.append(option['value'])\n",
    "    return options"
   ]
  },
  {
   "cell_type": "code",
   "execution_count": 39,
   "metadata": {
    "collapsed": true
   },
   "outputs": [],
   "source": [
    "def print_list(label, codes):\n",
    "    \"\"\"\n",
    "    prints label of list and elements of list\n",
    "    useful for viewing elements of a list\n",
    "    \"\"\"\n",
    "    print(\"\\n%s:\" % label)\n",
    "    for code in codes:\n",
    "        print(code)"
   ]
  },
  {
   "cell_type": "code",
   "execution_count": 40,
   "metadata": {
    "collapsed": true
   },
   "outputs": [],
   "source": [
    "def make_request(viewstate, eventvalidation, carrier, airport):\n",
    "    \"\"\"\n",
    "    request html containing data for specified carrier-airport combination from transtats website\n",
    "    some elements required for making request are hard-coded, others are given as inputs\n",
    "    writes the obtained data to a html file\n",
    "    data obtained from this function will still require further parsing to obtain the required table of information\n",
    "    \"\"\"\n",
    "    url = \"https://www.transtats.bts.gov/Data_Elements.aspx?Data=2\"\n",
    "    request_elements = (('__EVENTTARGET', \"\"), \n",
    "                        ('__EVENTARGUMENT', \"\"), \n",
    "                        ('__VIEWSTATE', viewstate), \n",
    "                        ('__VIEWSTATEGENERATOR', \"8E3A4798\"), \n",
    "                        ('__EVENTVALIDATION', eventvalidation), \n",
    "                        ('CarrierList', carrier), \n",
    "                        ('AirportList', airport), \n",
    "                        ('Submit', \"Submit\"))\n",
    "\n",
    "    r = s.post(url, request_elements)\n",
    "    filename = carrier+\"-\"+airport+\".html\"\n",
    "    with open(filename, \"w\") as f:\n",
    "        f.write(r.text)\n",
    "    return filename"
   ]
  },
  {
   "cell_type": "code",
   "execution_count": 41,
   "metadata": {
    "collapsed": true
   },
   "outputs": [],
   "source": [
    "def extract_data(soup):\n",
    "    \"\"\"\n",
    "    this helper function gets 2 of the required elements for making requests to the transtats website for\n",
    "    carrier-airport combinations.\n",
    "    \"\"\"\n",
    "    data = {\"eventvalidation\": \"\",\n",
    "            \"viewstate\": \"\"}\n",
    "    vs = soup.find(id=\"__VIEWSTATE\")\n",
    "    viewstate = vs[\"value\"]\n",
    "    ev = soup.find(id=\"__EVENTVALIDATION\")\n",
    "    eventvalidation = ev['value']\n",
    "\n",
    "    return viewstate, eventvalidation"
   ]
  },
  {
   "cell_type": "code",
   "execution_count": 42,
   "metadata": {
    "collapsed": true
   },
   "outputs": [],
   "source": [
    "#get list of carriers and airports using the get_options function\n",
    "carrier_codes = get_options(soup, 'CarrierList')\n",
    "airport_codes = get_options(soup, 'AirportList')"
   ]
  },
  {
   "cell_type": "code",
   "execution_count": 47,
   "metadata": {},
   "outputs": [],
   "source": [
    "#print_list(\"Carriers\", carrier_codes)\n",
    "#print_list(\"Airports\", airport_codes)"
   ]
  },
  {
   "cell_type": "code",
   "execution_count": 48,
   "metadata": {},
   "outputs": [
    {
     "name": "stdout",
     "output_type": "stream",
     "text": [
      "All-All.html\n"
     ]
    }
   ],
   "source": [
    "#get request elements required to query the transtats website then query website for the \n",
    "#\"all carrier\"-\"all airport\" combination, then store resulting data in a html file\n",
    "viewstate, eventvalidation = extract_data(soup)\n",
    "all_agg = {}\n",
    "\n",
    "filename = make_request(viewstate, eventvalidation, carrier_codes[0], airport_codes[0])\n",
    "print(filename)"
   ]
  },
  {
   "cell_type": "code",
   "execution_count": null,
   "metadata": {
    "collapsed": true
   },
   "outputs": [],
   "source": []
  }
 ],
 "metadata": {
  "kernelspec": {
   "display_name": "Python 3",
   "language": "python",
   "name": "python3"
  },
  "language_info": {
   "codemirror_mode": {
    "name": "ipython",
    "version": 3
   },
   "file_extension": ".py",
   "mimetype": "text/x-python",
   "name": "python",
   "nbconvert_exporter": "python",
   "pygments_lexer": "ipython3",
   "version": "3.6.1"
  }
 },
 "nbformat": 4,
 "nbformat_minor": 2
}
