{
 "cells": [
  {
   "cell_type": "code",
   "execution_count": 71,
   "metadata": {
    "collapsed": true
   },
   "outputs": [],
   "source": [
    "from bs4 import BeautifulSoup\n",
    "import requests\n",
    "import json"
   ]
  },
  {
   "cell_type": "code",
   "execution_count": 72,
   "metadata": {
    "collapsed": true
   },
   "outputs": [],
   "source": [
    "s = requests.Session()"
   ]
  },
  {
   "cell_type": "code",
   "execution_count": 73,
   "metadata": {},
   "outputs": [],
   "source": [
    "r = s.get('https://www.transtats.bts.gov/Data_Elements.aspx?Data=2')\n",
    "soup = BeautifulSoup(r.text, \"lxml\")"
   ]
  },
  {
   "cell_type": "code",
   "execution_count": 74,
   "metadata": {},
   "outputs": [],
   "source": [
    "def get_options(soup, tag):\n",
    "    options = []\n",
    "    get_list = soup.find(id=tag)\n",
    "    for option in get_list.find_all('option'):\n",
    "        options.append(option['value'])\n",
    "    return options"
   ]
  },
  {
   "cell_type": "code",
   "execution_count": 75,
   "metadata": {
    "collapsed": true
   },
   "outputs": [],
   "source": [
    "def print_list(label, codes):\n",
    "    print(\"\\n%s:\" % label)\n",
    "    for code in codes:\n",
    "        print(code)"
   ]
  },
  {
   "cell_type": "code",
   "execution_count": 76,
   "metadata": {},
   "outputs": [],
   "source": [
    "def make_request(viewstate, eventvalidation, carrier, airport):\n",
    "    url = \"https://www.transtats.bts.gov/Data_Elements.aspx?Data=2\"\n",
    "    request_elements = (('__EVENTTARGET', \"\"), \n",
    "                        ('__EVENTARGUMENT', \"\"), \n",
    "                        ('__VIEWSTATE', viewstate), \n",
    "                        ('__VIEWSTATEGENERATOR', \"8E3A4798\"), \n",
    "                        ('__EVENTVALIDATION', eventvalidation), \n",
    "                        ('CarrierList', carrier), \n",
    "                        ('AirportList', airport), \n",
    "                        ('Submit', \"Submit\"))\n",
    "\n",
    "    r = s.post(url, request_elements)\n",
    "    filename = carrier+\"_and_\"+airport+\".html\"\n",
    "    with open(filename, \"w\") as f:\n",
    "        f.write(r.text)"
   ]
  },
  {
   "cell_type": "code",
   "execution_count": 77,
   "metadata": {
    "collapsed": true
   },
   "outputs": [],
   "source": [
    "def extract_data(soup):\n",
    "    data = {\"eventvalidation\": \"\",\n",
    "            \"viewstate\": \"\"}\n",
    "    vs = soup.find(id=\"__VIEWSTATE\")\n",
    "    viewstate = vs[\"value\"]\n",
    "    ev = soup.find(id=\"__EVENTVALIDATION\")\n",
    "    eventvalidation = ev['value']\n",
    "\n",
    "    return viewstate, eventvalidation"
   ]
  },
  {
   "cell_type": "code",
   "execution_count": 78,
   "metadata": {},
   "outputs": [],
   "source": [
    "carrier_codes = get_options(soup, 'CarrierList')\n",
    "airport_codes = get_options(soup, 'AirportList')"
   ]
  },
  {
   "cell_type": "code",
   "execution_count": 67,
   "metadata": {},
   "outputs": [],
   "source": [
    "viewstate, eventvalidation = extract_data(soup)\n",
    "make_request(viewstate, eventvalidation, carrier_codes[5], airport_codes[5])"
   ]
  },
  {
   "cell_type": "code",
   "execution_count": null,
   "metadata": {
    "collapsed": true
   },
   "outputs": [],
   "source": []
  }
 ],
 "metadata": {
  "kernelspec": {
   "display_name": "Python 3",
   "language": "python",
   "name": "python3"
  },
  "language_info": {
   "codemirror_mode": {
    "name": "ipython",
    "version": 3
   },
   "file_extension": ".py",
   "mimetype": "text/x-python",
   "name": "python",
   "nbconvert_exporter": "python",
   "pygments_lexer": "ipython3",
   "version": "3.6.1"
  }
 },
 "nbformat": 4,
 "nbformat_minor": 2
}
